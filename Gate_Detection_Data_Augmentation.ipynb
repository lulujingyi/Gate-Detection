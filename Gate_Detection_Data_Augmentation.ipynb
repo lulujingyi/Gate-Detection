{
  "nbformat": 4,
  "nbformat_minor": 0,
  "metadata": {
    "colab": {
      "name": "Gate_Detection_Data_Augmentation.ipynb",
      "provenance": [],
      "authorship_tag": "ABX9TyOBX76U3xIF07SnWUyR9ECw",
      "include_colab_link": true
    },
    "kernelspec": {
      "name": "python3",
      "display_name": "Python 3"
    },
    "accelerator": "GPU"
  },
  "cells": [
    {
      "cell_type": "markdown",
      "metadata": {
        "id": "view-in-github",
        "colab_type": "text"
      },
      "source": [
        "<a href=\"https://colab.research.google.com/github/lulujingyi/Gate-Detection/blob/master/Gate_Detection_Data_Augmentation.ipynb\" target=\"_parent\"><img src=\"https://colab.research.google.com/assets/colab-badge.svg\" alt=\"Open In Colab\"/></a>"
      ]
    },
    {
      "cell_type": "markdown",
      "metadata": {
        "id": "dZpQ0AXSF2rg",
        "colab_type": "text"
      },
      "source": [
        "**0. Prepare**\n",
        "\n",
        "Check the cuda version and install the corresponding mxnet. Here, the mxnet 10.1 is installed.\n",
        "\n",
        "Upload images and masks to google drive manually. Path: '/content/gdrive/My Drive/MAV/data'."
      ]
    },
    {
      "cell_type": "code",
      "metadata": {
        "id": "gq7USaPXDpCE",
        "colab_type": "code",
        "outputId": "3a4aa863-fd77-4cc8-e89f-b9b19c1da673",
        "colab": {
          "base_uri": "https://localhost:8080/",
          "height": 301
        }
      },
      "source": [
        "!pip install mxnet-cu101"
      ],
      "execution_count": 1,
      "outputs": [
        {
          "output_type": "stream",
          "text": [
            "Collecting mxnet-cu101\n",
            "\u001b[?25l  Downloading https://files.pythonhosted.org/packages/54/b1/7d01abca10eef104296d2b3f0c59a7dda7573126d079c9e2609e6c17993b/mxnet_cu101-1.6.0-py2.py3-none-manylinux1_x86_64.whl (710.5MB)\n",
            "\u001b[K     |████████████████████████████████| 710.5MB 27kB/s \n",
            "\u001b[?25hRequirement already satisfied: numpy<2.0.0,>1.16.0 in /usr/local/lib/python3.6/dist-packages (from mxnet-cu101) (1.18.3)\n",
            "Collecting graphviz<0.9.0,>=0.8.1\n",
            "  Downloading https://files.pythonhosted.org/packages/53/39/4ab213673844e0c004bed8a0781a0721a3f6bb23eb8854ee75c236428892/graphviz-0.8.4-py2.py3-none-any.whl\n",
            "Requirement already satisfied: requests<3,>=2.20.0 in /usr/local/lib/python3.6/dist-packages (from mxnet-cu101) (2.21.0)\n",
            "Requirement already satisfied: chardet<3.1.0,>=3.0.2 in /usr/local/lib/python3.6/dist-packages (from requests<3,>=2.20.0->mxnet-cu101) (3.0.4)\n",
            "Requirement already satisfied: idna<2.9,>=2.5 in /usr/local/lib/python3.6/dist-packages (from requests<3,>=2.20.0->mxnet-cu101) (2.8)\n",
            "Requirement already satisfied: urllib3<1.25,>=1.21.1 in /usr/local/lib/python3.6/dist-packages (from requests<3,>=2.20.0->mxnet-cu101) (1.24.3)\n",
            "Requirement already satisfied: certifi>=2017.4.17 in /usr/local/lib/python3.6/dist-packages (from requests<3,>=2.20.0->mxnet-cu101) (2020.4.5.1)\n",
            "Installing collected packages: graphviz, mxnet-cu101\n",
            "  Found existing installation: graphviz 0.10.1\n",
            "    Uninstalling graphviz-0.10.1:\n",
            "      Successfully uninstalled graphviz-0.10.1\n",
            "Successfully installed graphviz-0.8.4 mxnet-cu101-1.6.0\n"
          ],
          "name": "stdout"
        }
      ]
    },
    {
      "cell_type": "markdown",
      "metadata": {
        "id": "6YmN7g1TH7vm",
        "colab_type": "text"
      },
      "source": [
        "**1. Import Modules**"
      ]
    },
    {
      "cell_type": "code",
      "metadata": {
        "id": "4Y6jA3T7ICe7",
        "colab_type": "code",
        "colab": {}
      },
      "source": [
        "from mxnet import autograd, gluon, image, nd, init\n",
        "from mxnet.gluon import data as gdata, utils as gutils, loss as gloss, nn\n",
        "from mxnet.gluon.model_zoo import vision as models\n",
        "import mxnet as mx\n",
        "import time\n",
        "import os\n",
        "import sys\n",
        "import tarfile\n",
        "from google.colab import drive\n",
        "from matplotlib import pyplot as plt\n",
        "import matplotlib\n",
        "import numpy as np\n",
        "import cv2\n",
        "import csv"
      ],
      "execution_count": 0,
      "outputs": []
    },
    {
      "cell_type": "markdown",
      "metadata": {
        "id": "gMD9Hca3JIJd",
        "colab_type": "text"
      },
      "source": [
        "**2.Organize Data**\n",
        "\n",
        "Mount data from google drive. Categorize data into image and mask and sort them in order. There are 308 images + 308 masks, 275 images and 275 masks have a size of 360*360. Discard those with non standard size. Set the first 250 as the training set, the rest as the test set."
      ]
    },
    {
      "cell_type": "code",
      "metadata": {
        "id": "KhIiGuyNJRZq",
        "colab_type": "code",
        "outputId": "40ecb420-a5ee-46c5-fee1-4a4bb989f489",
        "colab": {
          "base_uri": "https://localhost:8080/",
          "height": 481
        }
      },
      "source": [
        "drive.mount('/content/gdrive')\n",
        "!ls '/content/gdrive/My Drive/'\n",
        "path = '/content/gdrive/My Drive/MAV/'\n",
        "os.chdir(path)"
      ],
      "execution_count": 3,
      "outputs": [
        {
          "output_type": "stream",
          "text": [
            "Go to this URL in a browser: https://accounts.google.com/o/oauth2/auth?client_id=947318989803-6bn6qk8qdgf4n4g3pfee6491hc0brc4i.apps.googleusercontent.com&redirect_uri=urn%3aietf%3awg%3aoauth%3a2.0%3aoob&response_type=code&scope=email%20https%3a%2f%2fwww.googleapis.com%2fauth%2fdocs.test%20https%3a%2f%2fwww.googleapis.com%2fauth%2fdrive%20https%3a%2f%2fwww.googleapis.com%2fauth%2fdrive.photos.readonly%20https%3a%2f%2fwww.googleapis.com%2fauth%2fpeopleapi.readonly\n",
            "\n",
            "Enter your authorization code:\n",
            "··········\n",
            "Mounted at /content/gdrive\n",
            " AE1110II_space_slides_5-6_v16.1.untilsheet25.pdf\n",
            "'Chapter 12 week 1(1).pptx'\n",
            "'Colab Notebooks'\n",
            "'Course Outline V1 2016-2017 (1).docx'\n",
            "'Deep Learning'\n",
            "'Deep Learning Presentation.pptx'\n",
            "'Deep Learning Project'\n",
            " Hyperloop.gslides\n",
            " image.jpg\n",
            "'Intro materials   chemical bonds  2016-2017 (1).ppt'\n",
            "'Lecture 2  Dynamic loads 1617.pdf'\n",
            "'link buget.gsheet'\n",
            " littlewhite.jpg\n",
            " MAV\n",
            "'Operations Assigment.gsheet'\n",
            "'tudelft stramien 16 9.gslides'\n",
            "'Untitled Diagram.drawio'\n",
            "'Untitled Diagram.png'\n",
            "'wp 5 .gsheet'\n",
            " 小白\n"
          ],
          "name": "stdout"
        }
      ]
    },
    {
      "cell_type": "markdown",
      "metadata": {
        "id": "dZtX6sdyJh7f",
        "colab_type": "text"
      },
      "source": [
        "Get the list of file names"
      ]
    },
    {
      "cell_type": "code",
      "metadata": {
        "id": "TQmOzWBtJhI1",
        "colab_type": "code",
        "outputId": "35488e3d-56ed-480d-fd8e-c8fc6840ce53",
        "colab": {
          "base_uri": "https://localhost:8080/",
          "height": 52
        }
      },
      "source": [
        "data_path = path + 'data/'\n",
        "folder = os.listdir(data_path)\n",
        "image = []\n",
        "mask = []\n",
        "\n",
        "for f in folder:\n",
        "  if f[0] == 'i':\n",
        "    image.append(f)\n",
        "  else:\n",
        "    mask.append(f)\n",
        "image.sort(key=lambda x:int(x[4:-4])) \n",
        "mask.sort(key=lambda x:int(x[5:-4]))\n",
        "\n",
        "\n",
        "\n",
        "print('There are ',len(mask),' images in total.')\n",
        "\n",
        "train_size = 280\n",
        "image_train = image[0:train_size]\n",
        "mask_train = mask[0:train_size]\n",
        "image_test = image[train_size:len(image)]\n",
        "mask_test = mask[train_size:len(mask)]\n",
        "print(len(image_train),' are set to the training set and ',len(mask_test),' are set to the test set')"
      ],
      "execution_count": 4,
      "outputs": [
        {
          "output_type": "stream",
          "text": [
            "There are  308  images in total.\n",
            "280  are set to the training set and  28  are set to the test set\n"
          ],
          "name": "stdout"
        }
      ]
    },
    {
      "cell_type": "markdown",
      "metadata": {
        "id": "zxVqaabxKiPH",
        "colab_type": "text"
      },
      "source": [
        "Read data. Images are features, masks are labels. Opencv reads images as BGR. Convert features from BGR to RGB. Crop training image and label into two segment with a size of 360*240"
      ]
    },
    {
      "cell_type": "code",
      "metadata": {
        "id": "ZadjpUtgKnr5",
        "colab_type": "code",
        "colab": {}
      },
      "source": [
        "def read_data(root=data_path, is_train=True):\n",
        "  if is_train:\n",
        "    features = [None]*len(image_train)*2\n",
        "    labels = [None]*len(image_train)*2\n",
        "    crop = 240\n",
        "    for i in range(len(image_train)):\n",
        "      img = cv2.imread(data_path+image_train[i])\n",
        "      img = cv2.cvtColor(img, cv2.COLOR_BGR2RGB)\n",
        "      shape = np.shape(img)\n",
        "      width = shape[1]\n",
        "      img1 = img[0:360,0:crop]\n",
        "      img2 = img[0:360,width-crop:width]\n",
        "      features[2*i] = nd.array(img1) #Convert nparray to mx.NDArray\n",
        "      features[2*i+1] = nd.array(img2)\n",
        "      lab = cv2.imread(data_path+mask_train[i])\n",
        "      lab1 = lab[0:360,0:crop]\n",
        "      lab2 = lab[0:360,width-crop:width]\n",
        "      labels[2*i] = nd.array(lab1)\n",
        "      labels[2*i+1] = nd.array(lab2)\n",
        "  else:\n",
        "    features = [None]*len(image_test)\n",
        "    labels = [None]*len(image_test)\n",
        "    for i in range(len(image_test)):\n",
        "      img = cv2.imread(data_path+image_test[i])\n",
        "      img = cv2.cvtColor(img, cv2.COLOR_BGR2RGB)\n",
        "      features[i] = nd.array(img)\n",
        "      lab = cv2.imread(data_path+mask_test[i])\n",
        "      labels[i] = nd.array(lab)\n",
        "  return features,labels\n",
        "\n",
        "train_features,train_labels = read_data(data_path,True)"
      ],
      "execution_count": 0,
      "outputs": []
    },
    {
      "cell_type": "markdown",
      "metadata": {
        "id": "4r65P97sK-gx",
        "colab_type": "text"
      },
      "source": [
        "Define a function to get the label of each pixel of masks. 0 for background and 1 for gate.\n",
        "\n",
        "Define a function to normalize the RGB value of features."
      ]
    },
    {
      "cell_type": "code",
      "metadata": {
        "id": "KGxxa_VuLC1Z",
        "colab_type": "code",
        "colab": {}
      },
      "source": [
        "Gate_Colormap = [[0,0,0],[255,255,255]]\n",
        "colormap2label = nd.zeros(256**3)\n",
        "for i,colormap in enumerate(Gate_Colormap):\n",
        "  colormap2label[(colormap[0]*256+colormap[1])*256+colormap[2]]=i\n",
        " \n",
        "\n",
        "def label_indices(colormap,colormap2label):\n",
        "  colormap = colormap.astype('int32')\n",
        "  idx = ((colormap[:,:,0]*256+colormap[:,:,1])*256+colormap[:,:,2])\n",
        "  return colormap2label[idx]\n",
        "\n",
        "def normalize_image(img):\n",
        "  rgb_mean = nd.array([0.485,0.456,0.406])\n",
        "  rgb_std = nd.array([0.229,0.224,0.225])\n",
        "  return (img.astype('float32')/255-rgb_mean)/rgb_std"
      ],
      "execution_count": 0,
      "outputs": []
    },
    {
      "cell_type": "markdown",
      "metadata": {
        "id": "u2DdywbrLHcA",
        "colab_type": "text"
      },
      "source": [
        "**3.Load Data**"
      ]
    },
    {
      "cell_type": "code",
      "metadata": {
        "id": "gqx6oafOLMzi",
        "colab_type": "code",
        "outputId": "1629465d-b775-4a12-dec6-94caed82eb07",
        "colab": {
          "base_uri": "https://localhost:8080/",
          "height": 34
        }
      },
      "source": [
        "class GateDataset(gdata.Dataset):\n",
        "  def __init__(self, is_train, data_path, colormap2label):\n",
        "    features,labels = read_data(root=data_path,is_train=is_train)\n",
        "    self.features = features\n",
        "    self.labels = labels\n",
        "    self.colormap2label = colormap2label\n",
        "    print('read '+str(len(self.features))+' examples')\n",
        "  def __getitem__(self,idx):\n",
        "    img = self.features[idx]\n",
        "    feature = normalize_image(img)\n",
        "    label = self.labels[idx]\n",
        "    return (feature.transpose((2,0,1)),label_indices(label,self.colormap2label))\n",
        "  def __len__(self):\n",
        "    return len(self.features)\n",
        "\n",
        "train = GateDataset(True,data_path,colormap2label)"
      ],
      "execution_count": 7,
      "outputs": [
        {
          "output_type": "stream",
          "text": [
            "read 560 examples\n"
          ],
          "name": "stdout"
        }
      ]
    },
    {
      "cell_type": "code",
      "metadata": {
        "id": "bpTnHp85Ls7p",
        "colab_type": "code",
        "outputId": "6df52020-d8d0-4022-8c25-e3eef2538fbf",
        "colab": {
          "base_uri": "https://localhost:8080/",
          "height": 52
        }
      },
      "source": [
        "batch_size = 5\n",
        "train_iter = gdata.DataLoader(train,batch_size,shuffle=True)\n",
        "for X,Y in train_iter:\n",
        "  print('Shape of the image is ', X.shape)\n",
        "  print('Shape of the label is ', Y.shape)\n",
        "  break"
      ],
      "execution_count": 8,
      "outputs": [
        {
          "output_type": "stream",
          "text": [
            "Shape of the image is  (5, 3, 360, 240)\n",
            "Shape of the label is  (5, 360, 240)\n"
          ],
          "name": "stdout"
        }
      ]
    },
    {
      "cell_type": "markdown",
      "metadata": {
        "id": "_4v6C4piL553",
        "colab_type": "text"
      },
      "source": [
        "**4.Build FNN Model**\n",
        "\n",
        "Replace the last four layers of the Resnet18 by a convolutional layer and a transposed convolutional layer."
      ]
    },
    {
      "cell_type": "code",
      "metadata": {
        "id": "UNzp3U4AL_j2",
        "colab_type": "code",
        "outputId": "16f04164-3531-4b39-f094-d6d4135b55a7",
        "colab": {
          "base_uri": "https://localhost:8080/",
          "height": 72
        }
      },
      "source": [
        "pretrained_net=models.resnet18_v2(pretrained=True)\n",
        "pretrained_net.features[-4:], pretrained_net.output\n",
        "net = nn.HybridSequential()\n",
        "for layer in pretrained_net.features[:-2]:\n",
        "  net.add(layer)\n",
        "\n",
        "x = nd.random.uniform(shape=(1,3,360,240))\n",
        "print('The shape becomes ', net(x).shape, ' before the transpose layer.')"
      ],
      "execution_count": 9,
      "outputs": [
        {
          "output_type": "stream",
          "text": [
            "Downloading /root/.mxnet/models/resnet18_v2-a81db45f.zipaf2624e5-41d5-41ec-82a5-3c0ebd8261be from https://apache-mxnet.s3-accelerate.dualstack.amazonaws.com/gluon/models/resnet18_v2-a81db45f.zip...\n",
            "The shape becomes  (1, 512, 12, 8)  before the transpose layer.\n"
          ],
          "name": "stdout"
        }
      ]
    },
    {
      "cell_type": "markdown",
      "metadata": {
        "id": "veaF36-k5W_a",
        "colab_type": "text"
      },
      "source": [
        "The added convolutional layer makes the output channel number equal to the number of classes. The transposed convolutional converts the shape back to the original size."
      ]
    },
    {
      "cell_type": "code",
      "metadata": {
        "id": "iq2QfvWlMTkc",
        "colab_type": "code",
        "colab": {}
      },
      "source": [
        "num_classes = 2\n",
        "net.add(nn.Conv2D(num_classes,kernel_size=1),\n",
        "        nn.Conv2DTranspose(num_classes,kernel_size = 60,padding = 15,strides = 30))"
      ],
      "execution_count": 0,
      "outputs": []
    },
    {
      "cell_type": "code",
      "metadata": {
        "id": "keyXUXzkMaG-",
        "colab_type": "code",
        "colab": {}
      },
      "source": [
        "def bilinear_kernel(in_channels,out_channels,kernel_size):\n",
        "  factor = (kernel_size+1)//2\n",
        "  if kernel_size % 2 == 1:\n",
        "    center = factor-1\n",
        "  else:\n",
        "    center = factor-0.5\n",
        "  og = np.ogrid[:kernel_size, :kernel_size]\n",
        "  filt = (1-abs(og[0]-center)/factor)*(1-abs(og[1]-center)/factor)\n",
        "  weight = np.zeros((in_channels,out_channels,kernel_size,kernel_size),dtype='float32')\n",
        "  weight[range(in_channels),range(out_channels),:,:] = filt\n",
        "  return nd.array(weight)"
      ],
      "execution_count": 0,
      "outputs": []
    },
    {
      "cell_type": "code",
      "metadata": {
        "id": "NMEs2_zhMpUL",
        "colab_type": "code",
        "colab": {}
      },
      "source": [
        "net[-1].initialize(init.Constant(bilinear_kernel(num_classes,num_classes,60)))\n",
        "net[-2].initialize(init=init.Xavier())"
      ],
      "execution_count": 0,
      "outputs": []
    },
    {
      "cell_type": "code",
      "metadata": {
        "id": "BP9kaJh7MsOW",
        "colab_type": "code",
        "outputId": "354c3f32-95ce-48f4-9956-897b4fd70c83",
        "colab": {
          "base_uri": "https://localhost:8080/",
          "height": 70
        }
      },
      "source": [
        "test = GateDataset(False,data_path,colormap2label)\n",
        "\n",
        "test_iter = gdata.DataLoader(test,batch_size)\n",
        "for X,Y in train_iter:\n",
        "  print(X.shape)\n",
        "  print(Y.shape)\n",
        "  break"
      ],
      "execution_count": 13,
      "outputs": [
        {
          "output_type": "stream",
          "text": [
            "read 28 examples\n",
            "(5, 3, 360, 240)\n",
            "(5, 360, 240)\n"
          ],
          "name": "stdout"
        }
      ]
    },
    {
      "cell_type": "markdown",
      "metadata": {
        "id": "AXYkxxjtM02E",
        "colab_type": "text"
      },
      "source": [
        "**5.Design Training Loop**\n",
        "\n",
        "Define a function to use all GPUs available.\n",
        "\n",
        "Define a function to compute the train accuracy and test accuracy per epoch."
      ]
    },
    {
      "cell_type": "code",
      "metadata": {
        "id": "gmuxkfORM7_F",
        "colab_type": "code",
        "colab": {}
      },
      "source": [
        "def try_all_gpus():\n",
        "  ctxes = []\n",
        "  try:\n",
        "    for i in range(16):\n",
        "      ctx = mx.gpu(i)\n",
        "      _ = nd.array([0], ctx = ctx)\n",
        "      ctxes.append(ctx)\n",
        "  except mx.base.MXNetError:\n",
        "    pass\n",
        "  if not ctxes:\n",
        "    ctxes = [mx.cpu()]\n",
        "  return ctxes\n",
        "\n",
        "def _get_batch(batch,ctx):\n",
        "  features,labels = batch\n",
        "  if labels.dtype != features.dtype:\n",
        "    labels = labels.astype(features.dtype)\n",
        "  return (gutils.split_and_load(features,ctx),\n",
        "          gutils.split_and_load(labels,ctx),features.shape[0])\n",
        "  \n",
        "def evaluate_accuracy(data_iter,net,ctx=[mx.cpu()]):\n",
        "  if isinstance(ctx, mx.Context):\n",
        "    ctx = [ctx]\n",
        "  acc_sum, n=nd.array([0]),0\n",
        "  for batch in data_iter:\n",
        "    features,labels,_=_get_batch(batch,ctx)\n",
        "    for X, y in zip(features, labels):\n",
        "      y = y.astype('float32')\n",
        "      acc_sum += (net(X).argmax(axis=1)==y).sum().copyto(mx.cpu())\n",
        "      n +=y.size\n",
        "    acc_sum.wait_to_read()\n",
        "  return acc_sum.asscalar()/n"
      ],
      "execution_count": 0,
      "outputs": []
    },
    {
      "cell_type": "code",
      "metadata": {
        "id": "Pt52PEg2NOmm",
        "colab_type": "code",
        "colab": {}
      },
      "source": [
        "def train(train_iter,test_iter,net,loss,trainer,ctx,num_epochs):\n",
        "  print('training on', ctx)\n",
        "  if isinstance(ctx,mx.Context):\n",
        "    ctx = [ctx]\n",
        "  for epoch in range(num_epochs):\n",
        "    train_l_sum, train_acc_sum, n,m,start = 0.0, 0.0, 0, 0,time.time()\n",
        "    for i, batch in enumerate(train_iter):\n",
        "      Xs,ys,batch_size = _get_batch(batch,ctx)\n",
        "      with autograd.record():\n",
        "        y_hats = [net(X) for X in Xs]\n",
        "        ls = [loss(y_hat,y) for y_hat, y in zip(y_hats,ys)]\n",
        "      for l in ls:\n",
        "        l.backward()\n",
        "      trainer.step(batch_size)\n",
        "      train_l_sum += sum([l.sum().asscalar() for l in ls])\n",
        "      n += sum([l.size for l in ls])\n",
        "      train_acc_sum += sum([(y_hat.argmax(axis=1)==y).sum().asscalar() for y_hat,y in zip(y_hats,ys)])\n",
        "      m += sum([y.size for y in ys])\n",
        "    test_acc = evaluate_accuracy(test_iter,net,ctx)\n",
        "    print('epoch %d, loss %.4f, train acc %.3f, test acc %.3f, time %.1f sec'\n",
        "          % (epoch+1, train_l_sum/n, train_acc_sum/m, test_acc, time.time()-start))"
      ],
      "execution_count": 0,
      "outputs": []
    },
    {
      "cell_type": "markdown",
      "metadata": {
        "id": "HOm2L9uHNRzt",
        "colab_type": "text"
      },
      "source": [
        "**6.Train**"
      ]
    },
    {
      "cell_type": "code",
      "metadata": {
        "id": "a2rm_-fQNRZD",
        "colab_type": "code",
        "outputId": "4d7f8d49-b58c-46ed-cf3a-4b5e71bdfad2",
        "colab": {
          "base_uri": "https://localhost:8080/",
          "height": 177
        }
      },
      "source": [
        "ctx = try_all_gpus()\n",
        "loss = gloss.SoftmaxCrossEntropyLoss(axis=1)\n",
        "net.collect_params().reset_ctx(ctx)\n",
        "trainer = gluon.Trainer(net.collect_params(),'sgd',{'learning_rate':0.1,'wd': 1e-3})\n",
        "train(train_iter,test_iter,net,loss,trainer,ctx,num_epochs=8)"
      ],
      "execution_count": 16,
      "outputs": [
        {
          "output_type": "stream",
          "text": [
            "training on [gpu(0)]\n",
            "epoch 1, loss 0.1936, train acc 0.926, test acc 0.904, time 15.8 sec\n",
            "epoch 2, loss 0.1117, train acc 0.947, test acc 0.941, time 13.4 sec\n",
            "epoch 3, loss 0.1032, train acc 0.951, test acc 0.942, time 13.4 sec\n",
            "epoch 4, loss 0.0976, train acc 0.954, test acc 0.941, time 13.3 sec\n",
            "epoch 5, loss 0.0944, train acc 0.956, test acc 0.943, time 13.3 sec\n",
            "epoch 6, loss 0.0916, train acc 0.957, test acc 0.951, time 13.5 sec\n",
            "epoch 7, loss 0.0898, train acc 0.958, test acc 0.950, time 13.3 sec\n",
            "epoch 8, loss 0.0877, train acc 0.959, test acc 0.952, time 13.3 sec\n"
          ],
          "name": "stdout"
        }
      ]
    },
    {
      "cell_type": "markdown",
      "metadata": {
        "id": "UJnDCESnNsNl",
        "colab_type": "text"
      },
      "source": [
        "**7.Predict on Testset**\n",
        "\n",
        "\n",
        "\n",
        "Define a function to get the prediction and convert it from label to RGB"
      ]
    },
    {
      "cell_type": "code",
      "metadata": {
        "id": "2C47jW2yNxi2",
        "colab_type": "code",
        "colab": {}
      },
      "source": [
        "def predict(img):\n",
        "  X = normalize_image(img)\n",
        "  X = X.transpose((2,0,1)).expand_dims(axis=0)\n",
        "  pred = nd.argmax(net(X.as_in_context(ctx[0])), axis=1)\n",
        "  return pred.reshape((pred.shape[1],pred.shape[2]))\n",
        "\n",
        "def label2image(pred):\n",
        "  colormap = nd.array(Gate_Colormap,ctx=ctx[0],dtype='uint8')\n",
        "  X = pred.astype('int32')\n",
        "  return colormap[X,:]"
      ],
      "execution_count": 0,
      "outputs": []
    },
    {
      "cell_type": "code",
      "metadata": {
        "id": "5Juf59thOGhj",
        "colab_type": "code",
        "outputId": "abdc7f62-c2a0-4e53-c178-03cadcf9f930",
        "colab": {
          "base_uri": "https://localhost:8080/",
          "height": 257
        }
      },
      "source": [
        "test_images, test_labels = read_data(data_path,False)\n",
        "x = test_images[0]\n",
        "y = test_labels[0]\n",
        "start_time = time.time()\n",
        "prediction = predict(x)\n",
        "print(time.time()-start_time)\n",
        "pred = label2image(predict(x))\n",
        "plt.subplot(121)\n",
        "plt.imshow(pred.asnumpy())\n",
        "plt.subplot(122)\n",
        "plt.imshow(y.asnumpy())"
      ],
      "execution_count": 18,
      "outputs": [
        {
          "output_type": "stream",
          "text": [
            "0.058281898498535156\n"
          ],
          "name": "stdout"
        },
        {
          "output_type": "stream",
          "text": [
            "WARNING:matplotlib.image:Clipping input data to the valid range for imshow with RGB data ([0..1] for floats or [0..255] for integers).\n"
          ],
          "name": "stderr"
        },
        {
          "output_type": "execute_result",
          "data": {
            "text/plain": [
              "<matplotlib.image.AxesImage at 0x7f95447c5dd8>"
            ]
          },
          "metadata": {
            "tags": []
          },
          "execution_count": 18
        },
        {
          "output_type": "display_data",
          "data": {
            "image/png": "[encoded data removed]",
            "text/plain": [
              "<Figure size 432x288 with 2 Axes>"
            ]
          },
          "metadata": {
            "tags": [],
            "needs_background": "light"
          }
        }
      ]
    },
    {
      "cell_type": "markdown",
      "metadata": {
        "id": "j-QTtIKlOa1T",
        "colab_type": "text"
      },
      "source": [
        "Save prediction results to folder: predict"
      ]
    },
    {
      "cell_type": "code",
      "metadata": {
        "id": "_C1VMub7OZ-4",
        "colab_type": "code",
        "colab": {}
      },
      "source": [
        "path_output = path+'predict_data_aug/'\n",
        "os.makedirs(path_output)\n",
        "\n",
        "for i in range(len(test_images)):\n",
        "  x = test_images[i]\n",
        "  pred = label2image(predict(x))\n",
        "  pred = pred.asnumpy()\n",
        "  matplotlib.image.imsave(path_output+'predictda'+str(i)+'.png', pred)"
      ],
      "execution_count": 0,
      "outputs": []
    },
    {
      "cell_type": "markdown",
      "metadata": {
        "id": "kvviG_OpOsJr",
        "colab_type": "text"
      },
      "source": [
        "**8. Plot ROC**"
      ]
    },
    {
      "cell_type": "code",
      "metadata": {
        "id": "90_yX2x4PAXu",
        "colab_type": "code",
        "outputId": "77ea8024-1617-4ac7-9af4-c9e37b05fff9",
        "colab": {
          "base_uri": "https://localhost:8080/",
          "height": 265
        }
      },
      "source": [
        "def ROC(i):\n",
        "  x = test_images[i]\n",
        "  y = test_labels[i]\n",
        "  pred = label2image(predict(x))\n",
        "  pred = label_indices(pred,colormap2label)\n",
        "  pred = pred.asnumpy()\n",
        "  pred = pred.flatten()\n",
        "\n",
        "  truth = label_indices(y,colormap2label)\n",
        "  truth = truth.asnumpy()\n",
        "  truth = truth.flatten()\n",
        "\n",
        "  n_values = len(pred)\n",
        "  totalP = sum(truth)\n",
        "  totalN = n_values - totalP\n",
        "\n",
        "  inds = np.argsort(pred)\n",
        "  s_pred = pred[inds]\n",
        "  s_truth = truth[inds]\n",
        "\n",
        "  TP = np.zeros([n_values, 1]);\n",
        "  FP = np.zeros([n_values, 1]);\n",
        "\n",
        "  for e in range(n_values):\n",
        "    P = np.sum(s_truth[e:]);\n",
        "    TP[e] = P / totalP;\n",
        "    FP[e] = (len(s_truth[e:]) - P) / totalN;\n",
        "  return TP,FP\n",
        "\n",
        "TP,FP=ROC(3)\n",
        "plt.figure();\n",
        "plt.plot(FP, TP, 'b');"
      ],
      "execution_count": 19,
      "outputs": [
        {
          "output_type": "display_data",
          "data": {
            "image/png": "[encoded data removed]",
            "text/plain": [
              "<Figure size 432x288 with 1 Axes>"
            ]
          },
          "metadata": {
            "tags": [],
            "needs_background": "light"
          }
        }
      ]
    },
    {
      "cell_type": "markdown",
      "metadata": {
        "id": "-sqEYaTWR995",
        "colab_type": "text"
      },
      "source": [
        "Save ROC curves into a folder: ROC"
      ]
    },
    {
      "cell_type": "code",
      "metadata": {
        "id": "eX4HV3tOPh_8",
        "colab_type": "code",
        "outputId": "664698e9-2798-4bb7-dd2e-661816b30d5f",
        "colab": {
          "base_uri": "https://localhost:8080/",
          "height": 279
        }
      },
      "source": [
        "path_roc = path+'roc_data_aug/'\n",
        "os.makedirs(path_roc)\n",
        "\n",
        "for i in range(len(test_images)):\n",
        "  TP,FP=ROC(i)\n",
        "  plt.cla()\n",
        "  plt.plot(FP, TP, 'b');\n",
        "  plt.xlabel('FP');\n",
        "  plt.ylabel('TP');\n",
        "  plt.savefig(path_roc+'rocda'+str(i)+'.png')"
      ],
      "execution_count": 20,
      "outputs": [
        {
          "output_type": "display_data",
          "data": {
            "image/png": "[encoded data removed]",
            "text/plain": [
              "<Figure size 432x288 with 1 Axes>"
            ]
          },
          "metadata": {
            "tags": [],
            "needs_background": "light"
          }
        }
      ]
    }
  ]
}